{
  "nbformat": 4,
  "nbformat_minor": 0,
  "metadata": {
    "colab": {
      "provenance": [],
      "authorship_tag": "ABX9TyOxcRTms2na71DbPNnEt18x",
      "include_colab_link": true
    },
    "kernelspec": {
      "name": "python3",
      "display_name": "Python 3"
    },
    "language_info": {
      "name": "python"
    }
  },
  "cells": [
    {
      "cell_type": "markdown",
      "metadata": {
        "id": "view-in-github",
        "colab_type": "text"
      },
      "source": [
        "<a href=\"https://colab.research.google.com/github/millerjaro/Doremi/blob/main/Doremi_JARO%2CJan_Miller_F_.ipynb\" target=\"_parent\"><img src=\"https://colab.research.google.com/assets/colab-badge.svg\" alt=\"Open In Colab\"/></a>"
      ]
    },
    {
      "cell_type": "code",
      "source": [
        "import numpy as np\n",
        "\n",
        "samplerate = 44100 #Frequecy in Hz\n",
        "\n",
        "def get_wave(freq, duration=0.5):\n",
        "    '''\n",
        "    Function takes the \"frequecy\" and \"time_duration\" for a wave\n",
        "    as the input and returns a \"numpy array\" of values at all points\n",
        "    in time\n",
        "    '''\n",
        "\n",
        "    amplitude = 4096\n",
        "    t = np.linspace(0, duration, int(samplerate * duration))\n",
        "    wave = amplitude * np.sin(2 * np.pi * freq * t)\n",
        "\n",
        "    return wave\n",
        "\n",
        "# To get a 1 second long wave of frequency 440Hz\n",
        "a_wave = get_wave(440, 1)\n",
        "\n",
        "#wave features\n",
        "print(len(a_wave)) # 44100\n",
        "print(np.max(a_wave)) # 4096\n",
        "print(np.min(a_wave)) # -4096"
      ],
      "metadata": {
        "colab": {
          "base_uri": "https://localhost:8080/"
        },
        "id": "584Vvzt-aqcp",
        "outputId": "079b99ce-957b-4772-8cf6-302c8d82d56f"
      },
      "execution_count": null,
      "outputs": [
        {
          "output_type": "stream",
          "name": "stdout",
          "text": [
            "44100\n",
            "4095.9996855891045\n",
            "-4095.999685589104\n"
          ]
        }
      ]
    },
    {
      "cell_type": "code",
      "source": [
        "from pprint import pprint\n",
        "\n",
        "def get_piano_notes():\n",
        "    '''\n",
        "    Returns a dict object for all the piano\n",
        "    note's frequencies\n",
        "    '''\n",
        "    # White keys are in Uppercase and black keys (sharps) are in lowercase\n",
        "    octave = ['C', 'c', 'D', 'd', 'E', 'F', 'f', 'G', 'g', 'A', 'a', 'B']\n",
        "    base_freq = 261.63 #Frequency of Note C4\n",
        "\n",
        "    note_freqs = {octave[i]: base_freq * pow(2,(i/12)) for i in range(len(octave))}\n",
        "    note_freqs[''] = 0.0 # silent note\n",
        "\n",
        "    return note_freqs\n",
        "\n",
        "  # To get the piano note's frequencies\n",
        "note_freqs = get_piano_notes()\n",
        "pprint(note_freqs)\n"
      ],
      "metadata": {
        "colab": {
          "base_uri": "https://localhost:8080/",
          "height": 296
        },
        "id": "1_2ODwQ9bN-4",
        "outputId": "44ee1eb6-f8f8-4c54-9f06-084c24624cce"
      },
      "execution_count": null,
      "outputs": [
        {
          "output_type": "stream",
          "name": "stdout",
          "text": [
            "{'': 0.0,\n",
            " 'A': 440.00745824565865,\n",
            " 'B': 493.8916728538229,\n",
            " 'C': 261.63,\n",
            " 'D': 293.66974569918125,\n",
            " 'E': 329.63314428399565,\n",
            " 'F': 349.2341510465061,\n",
            " 'G': 392.0020805232462,\n",
            " 'a': 466.1716632541139,\n",
            " 'c': 277.18732937722245,\n",
            " 'd': 311.1322574981619,\n",
            " 'f': 370.00069432367286,\n",
            " 'g': 415.31173722644}\n"
          ]
        },
        {
          "output_type": "execute_result",
          "data": {
            "text/plain": [
              "\"\\n           {'': 0.0,\\n           'A': 440.00745824565865,\\n           'B': 493.8916728538229,\\n           'C': 261.63,\\n           'D': 293.66974569918125,\\n           'E': 329.63314428399565,\\n           'F': 349.2341510465061,\\n           'G': 392.0020805232462,\\n           'a': 466.1716632541139,\\n           'c': 277.18732937722245,\\n           'd': 311.1322574981619,\\n           'f': 370.00069432367286,\\n           'g': 415.31173722644}\\n    \""
            ],
            "application/vnd.google.colaboratory.intrinsic+json": {
              "type": "string"
            }
          },
          "metadata": {},
          "execution_count": 6
        }
      ]
    }
  ]
}